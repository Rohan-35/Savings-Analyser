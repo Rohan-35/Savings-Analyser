{
 "cells": [
  {
   "cell_type": "markdown",
   "metadata": {
    "id": "kDr-XUHX8GmU"
   },
   "source": [
    "## Useful functions required in the program:"
   ]
  },
  {
   "cell_type": "markdown",
   "metadata": {
    "id": "--YQ3Vqh8Qi9"
   },
   "source": [
    "**1)** For converting 2D array into 1D list"
   ]
  },
  {
   "cell_type": "code",
   "execution_count": 3,
   "metadata": {
    "id": "MY3sfAVzFDJV"
   },
   "outputs": [],
   "source": [
    "def flatten(t):\n",
    "    return [item for sublist in t for item in sublist]"
   ]
  },
  {
   "cell_type": "markdown",
   "metadata": {
    "id": "d4JJHrlN8e7x"
   },
   "source": [
    "**2)** for Converting a list into a string (for easy to read print statements)"
   ]
  },
  {
   "cell_type": "code",
   "execution_count": 12,
   "metadata": {
    "id": "y5QngnY96pfc"
   },
   "outputs": [],
   "source": [
    "def list_to_string(a):  # for printing a list as single string\n",
    "  sam = ''\n",
    "  for i in a:\n",
    "    sam = sam+', '+i\n",
    "  return sam"
   ]
  },
  {
   "cell_type": "markdown",
   "metadata": {
    "id": "G1h9rpMzW5R7"
   },
   "source": [
    "# Connecting to DB"
   ]
  },
  {
   "cell_type": "code",
   "execution_count": 1,
   "metadata": {
    "id": "Hpv5RJ5cW7Fi"
   },
   "outputs": [],
   "source": [
    "from googleapiclient.discovery import build\n",
    "from google.oauth2 import service_account\n",
    "import pandas as pd\n",
    "import numpy as np\n",
    "\n",
    "SCOPES = ['https://www.googleapis.com/auth/spreadsheets']\n",
    "SERVICE_ACCOUNT_FILE = 'my_json_file.json'  #link to json file\n",
    "\n",
    "creds = None\n",
    "creds = service_account.Credentials.from_service_account_file(\n",
    "        SERVICE_ACCOUNT_FILE, scopes=SCOPES)\n",
    "\n",
    "records_file = 'your_records_googlesheet_id'  # record file google sheet id\n",
    "keywords_file = 'your_keywords_googlesheet_id'  # keywords file google sheet id"
   ]
  },
  {
   "cell_type": "code",
   "execution_count": 4,
   "metadata": {
    "id": "OgYlgxwu0hbK"
   },
   "outputs": [],
   "source": [
    "service = build('sheets', 'v4', credentials=creds)\n",
    "sheet = service.spreadsheets()\n",
    "records_rows = sheet.values().get(spreadsheetId=records_file, range='A1:K1').execute()  # whenever new category gets updated, this line has to be changed\n",
    "keyword_rows = sheet.values().get(spreadsheetId=keywords_file, range='A:B').execute()\n",
    "\n",
    "records = flatten(records_rows['values'])\n",
    "keywords = pd.DataFrame(data=keyword_rows.get('values', []))\n",
    "keywords = keywords.rename(columns=keywords.iloc[0]).drop(keywords.index[0])"
   ]
  },
  {
   "cell_type": "markdown",
   "metadata": {
    "id": "Jy1j5TtGhMnA"
   },
   "source": [
    "# Taking Input"
   ]
  },
  {
   "cell_type": "code",
   "execution_count": 5,
   "metadata": {
    "id": "fHzkr9q_lFkm"
   },
   "outputs": [],
   "source": [
    "input = \"\"\"bread  45\"\"\"  # enter your text in triple double quotes. Each keyword followed by double space. new keywords in new line."
   ]
  },
  {
   "cell_type": "code",
   "execution_count": 6,
   "metadata": {
    "id": "z0Bq_lg9m1dT"
   },
   "outputs": [],
   "source": [
    "# Spliting expence keywords and Values\n",
    "sentences = input.split('\\n')\n",
    "expenses = dict()\n",
    "for i in sentences:\n",
    "  a = i.split('  ')\n",
    "  expenses[a[0]] = int(a[1])"
   ]
  },
  {
   "cell_type": "markdown",
   "metadata": {
    "id": "KCypXSkYj79O"
   },
   "source": [
    "# Text processing"
   ]
  },
  {
   "cell_type": "markdown",
   "metadata": {
    "id": "eUqGYdQW7r7G"
   },
   "source": [
    "### correcting irregularities in data"
   ]
  },
  {
   "cell_type": "code",
   "execution_count": 7,
   "metadata": {
    "id": "1KFaKwJW7q65"
   },
   "outputs": [],
   "source": [
    "keywords.dropna(subset=['Keywords'], inplace=True)"
   ]
  },
  {
   "cell_type": "code",
   "execution_count": 8,
   "metadata": {
    "id": "vv-vb98eEOvI"
   },
   "outputs": [],
   "source": [
    "keywords['Category'] = keywords['Category'].str.replace('\"\"','')"
   ]
  },
  {
   "cell_type": "code",
   "execution_count": 10,
   "metadata": {
    "id": "8UaL0VZpDx_h"
   },
   "outputs": [],
   "source": [
    "# categories in consideration\n",
    "categories = records[1:]"
   ]
  },
  {
   "cell_type": "markdown",
   "metadata": {
    "id": "Uaby_PCCh9Te"
   },
   "source": [
    "## Accepting new entries by user"
   ]
  },
  {
   "cell_type": "code",
   "execution_count": 14,
   "metadata": {
    "id": "Cjj0ykb_bApi"
   },
   "outputs": [],
   "source": [
    "import builtins\n",
    "unique_keys = list() # unique list of keys\n",
    "unique_categories = list()  # unique list of categories\n",
    "for i in expenses.keys():\n",
    "  if i not in list(keywords['Keywords']):\n",
    "    unique_keys.append(i)"
   ]
  },
  {
   "cell_type": "code",
   "execution_count": null,
   "metadata": {
    "colab": {
     "base_uri": "https://localhost:8080/"
    },
    "id": "94pP7LAnfIxp",
    "outputId": "147e1a25-7ce1-429e-acec-599b3673767e"
   },
   "outputs": [],
   "source": [
    "# if we get new entries, lets take its category to be placed into?\n",
    "if len(unique_keys) >= 1:\n",
    "  print(\"These are the unique keys: \",unique_keys)\n",
    "  print(\"Categories:\",list_to_string(categories))\n",
    "  print(\"What will be their categories? (add double space in between): \")\n",
    "  unique_categories.append(builtins.input().split('  '))\n",
    "if unique_categories:\n",
    "  unique_categories = flatten(unique_categories)"
   ]
  },
  {
   "cell_type": "markdown",
   "metadata": {
    "id": "bfYP7DL_q7zT"
   },
   "source": [
    "## Taking Update frequency"
   ]
  },
  {
   "cell_type": "code",
   "execution_count": 18,
   "metadata": {
    "id": "CgLXL2lYRn47"
   },
   "outputs": [],
   "source": [
    "# update frequency is the number of days for which we want our data to entered in records.\n",
    "import builtins\n",
    "freq_day = int(builtins.input(\"Enter number of days after you're updating the data (press 1 for today's entry): \"))"
   ]
  },
  {
   "cell_type": "markdown",
   "metadata": {
    "id": "EfhSbgXnsoCp"
   },
   "source": [
    "## Formatting Date"
   ]
  },
  {
   "cell_type": "markdown",
   "metadata": {
    "id": "DVDIHG7lfUul"
   },
   "source": [
    "Generating list of Dates for the no. of days records needs to be added"
   ]
  },
  {
   "cell_type": "code",
   "execution_count": 19,
   "metadata": {
    "id": "P19_hGoOGrc5"
   },
   "outputs": [],
   "source": [
    "# getting Dates in proper format\n",
    "from datetime import datetime, timedelta \n",
    "start = datetime.today().date()\n",
    "end = (datetime.today() - timedelta(days=freq_day)).date()\n",
    "date_generated = list()\n",
    "for i in range(0, freq_day):\n",
    "  b = start - timedelta(days=i)\n",
    "  date_generated.append(b.strftime('%d-%m-%Y'))"
   ]
  },
  {
   "cell_type": "markdown",
   "metadata": {
    "id": "oi88v_ikgfF9"
   },
   "source": [
    "Creating single dictionary containing category and expense"
   ]
  },
  {
   "cell_type": "code",
   "execution_count": 21,
   "metadata": {
    "id": "-sGFK1IFkASE"
   },
   "outputs": [],
   "source": [
    "# first extracting details from unique items\n",
    "category_vals = dict()\n",
    "for i in expenses.keys():\n",
    "  for j,v in enumerate(unique_keys):\n",
    "    if i == v:\n",
    "      try:\n",
    "        category_vals[unique_categories[j]] = category_vals[unique_categories[j]] + expenses[i]\n",
    "      except:\n",
    "        category_vals[unique_categories[j]] = expenses[i]"
   ]
  },
  {
   "cell_type": "code",
   "execution_count": 22,
   "metadata": {
    "id": "05Zlo_J1tYfu"
   },
   "outputs": [],
   "source": [
    "#for general items\n",
    "for i,v in expenses.items():\n",
    "  if i not in unique_keys:\n",
    "    try:\n",
    "      category_vals[keywords[keywords['Keywords'] == i]['Category'].iloc[0]] = category_vals[keywords[keywords['Keywords'] == i]['Category'].iloc[0]] + v\n",
    "    except:\n",
    "      category_vals[keywords[keywords['Keywords'] == i]['Category'].iloc[0]] =  v"
   ]
  },
  {
   "cell_type": "markdown",
   "metadata": {
    "id": "KKr8HDCwY_7g"
   },
   "source": [
    "Dividing the values amonst days"
   ]
  },
  {
   "cell_type": "code",
   "execution_count": 28,
   "metadata": {
    "id": "CwnxDD12bWDu"
   },
   "outputs": [],
   "source": [
    "for i,j in category_vals.items():\n",
    "  category_vals[i] = j/freq_day"
   ]
  },
  {
   "cell_type": "markdown",
   "metadata": {
    "id": "lGe7RZzkg-bx"
   },
   "source": [
    "# Creating Dataframes"
   ]
  },
  {
   "cell_type": "markdown",
   "metadata": {
    "id": "jHu4GowLhB_F"
   },
   "source": [
    "For Keywords"
   ]
  },
  {
   "cell_type": "code",
   "execution_count": 29,
   "metadata": {
    "id": "GCIpedeFhFNg"
   },
   "outputs": [],
   "source": [
    "keywords_final = pd.DataFrame({'Keywords':unique_keys,'Category':unique_categories})"
   ]
  },
  {
   "cell_type": "markdown",
   "metadata": {
    "id": "fkGjwvs5qwr9"
   },
   "source": [
    "For Records"
   ]
  },
  {
   "cell_type": "code",
   "execution_count": 30,
   "metadata": {
    "id": "iVLDE7Z_qym_"
   },
   "outputs": [],
   "source": [
    "row = [0] * len(categories)"
   ]
  },
  {
   "cell_type": "code",
   "execution_count": 31,
   "metadata": {
    "id": "vCgY2k8nq6bK"
   },
   "outputs": [],
   "source": [
    "for i, v in enumerate(categories):\n",
    "  for j in category_vals.keys():\n",
    "    if v == j:\n",
    "      row[i] = category_vals[j]"
   ]
  },
  {
   "cell_type": "code",
   "execution_count": 47,
   "metadata": {
    "id": "ZmqCQz9AUYKv"
   },
   "outputs": [],
   "source": [
    "category_final = pd.DataFrame()\n",
    "category_final['date'] = date_generated\n",
    "category_final[categories] = row"
   ]
  },
  {
   "cell_type": "markdown",
   "metadata": {
    "id": "FVyg0QMcCqjj"
   },
   "source": [
    "# Pushing Values to GSheets"
   ]
  },
  {
   "cell_type": "code",
   "execution_count": null,
   "metadata": {
    "id": "T_FEYhwaCtN_"
   },
   "outputs": [],
   "source": [
    "request_records = sheet.values().append(spreadsheetId=records_file, range='A:J', valueInputOption= \"USER_ENTERED\", insertDataOption= \"INSERT_ROWS\", body= {\"values\": category_final.values.tolist()}).execute()"
   ]
  },
  {
   "cell_type": "code",
   "execution_count": 34,
   "metadata": {
    "id": "f-Bw2-Eupd5o"
   },
   "outputs": [],
   "source": [
    "if len(keywords_final) >=1:\n",
    "  request_keywords = sheet.values().append(spreadsheetId=keywords_file, range='A:B', valueInputOption= \"USER_ENTERED\", insertDataOption= \"INSERT_ROWS\", body= {\"values\": keywords_final.values.tolist()}).execute()"
   ]
  }
 ],
 "metadata": {
  "colab": {
   "collapsed_sections": [],
   "name": "Savings analyser",
   "provenance": []
  },
  "kernelspec": {
   "display_name": "Python 3 (ipykernel)",
   "language": "python",
   "name": "python3"
  },
  "language_info": {
   "codemirror_mode": {
    "name": "ipython",
    "version": 3
   },
   "file_extension": ".py",
   "mimetype": "text/x-python",
   "name": "python",
   "nbconvert_exporter": "python",
   "pygments_lexer": "ipython3",
   "version": "3.8.9"
  }
 },
 "nbformat": 4,
 "nbformat_minor": 4
}
